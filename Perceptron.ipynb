{
  "cells": [
    {
      "cell_type": "code",
      "execution_count": 1,
      "metadata": {
        "id": "WNHl7lQBgcw9"
      },
      "outputs": [
        {
          "ename": "ModuleNotFoundError",
          "evalue": "No module named 'sklearn'",
          "output_type": "error",
          "traceback": [
            "\u001b[1;31m---------------------------------------------------------------------------\u001b[0m",
            "\u001b[1;31mModuleNotFoundError\u001b[0m                       Traceback (most recent call last)",
            "\u001b[1;32mセル1 を c:\\Users\\konan\\Downloads\\Untitled13.ipynb\u001b[0m in \u001b[0;36m<cell line: 3>\u001b[1;34m()\u001b[0m\n\u001b[0;32m      <a href='vscode-notebook-cell:/c%3A/Users/konan/Downloads/Untitled13.ipynb#W0sZmlsZQ%3D%3D?line=0'>1</a>\u001b[0m \u001b[39m#!pip install sklearn\u001b[39;00m\n\u001b[0;32m      <a href='vscode-notebook-cell:/c%3A/Users/konan/Downloads/Untitled13.ipynb#W0sZmlsZQ%3D%3D?line=1'>2</a>\u001b[0m \u001b[39m#pip install numpy\u001b[39;00m\n\u001b[1;32m----> <a href='vscode-notebook-cell:/c%3A/Users/konan/Downloads/Untitled13.ipynb#W0sZmlsZQ%3D%3D?line=2'>3</a>\u001b[0m \u001b[39mfrom\u001b[39;00m \u001b[39msklearn\u001b[39;00m \u001b[39mimport\u001b[39;00m datasets\n\u001b[0;32m      <a href='vscode-notebook-cell:/c%3A/Users/konan/Downloads/Untitled13.ipynb#W0sZmlsZQ%3D%3D?line=3'>4</a>\u001b[0m \u001b[39mimport\u001b[39;00m \u001b[39mnumpy\u001b[39;00m \u001b[39mas\u001b[39;00m \u001b[39mnp\u001b[39;00m\n",
            "\u001b[1;31mModuleNotFoundError\u001b[0m: No module named 'sklearn'"
          ]
        }
      ],
      "source": [
        "#!pip install sklearn\n",
        "#pip install numpy\n",
        "from sklearn import datasets\n",
        "import numpy as np"
      ]
    },
    {
      "cell_type": "code",
      "execution_count": null,
      "metadata": {
        "colab": {
          "base_uri": "https://localhost:8080/"
        },
        "id": "RpiXNRH6goDx",
        "outputId": "e52c2091-c85c-447d-c10f-f94448f42168"
      },
      "outputs": [
        {
          "name": "stdout",
          "output_type": "stream",
          "text": [
            "Class label: [0 1 2]\n"
          ]
        }
      ],
      "source": [
        "#irisデータセットをダウンロード\n",
        "iris = datasets.load_iris()\n",
        "#3,4番目の特徴を抽出 追記:[2:3]とやることの違いが何なのかは、試しにやってみる\n",
        "X = iris.data[:,[2,3]] #説明変数の中の　(全ての行、2，3列目)のデータをとる\n",
        "y = iris.target #目的変数をとってくる\n",
        "#目的変数の数を取得。(つまり、目的変数が何種類あるか調べる)\n",
        "print('Class label:',np.unique(y))#今回のデータセットは3種類"
      ]
    },
    {
      "cell_type": "code",
      "execution_count": null,
      "metadata": {
        "colab": {
          "base_uri": "https://localhost:8080/",
          "height": 53
        },
        "id": "nEIykFIhgtxB",
        "outputId": "c6bbeeaf-6ce1-46f1-9efe-218499146a21"
      },
      "outputs": [
        {
          "data": {
            "application/vnd.google.colaboratory.intrinsic+json": {
              "type": "string"
            },
            "text/plain": [
              "'\\n全体の3割をテストデータにする。\\nrandom_stateを指定して乱数シードを固定すると常に同じように分割されることで、再現性を持ち、機械学習のモデルの性能を比較できるようにする。\\nstratifyを指定すると、目的変数が複数のラベルを持つ場合でも、各ラベルのデータ数が等しくなるようにデータを分割してくれる。\\n'"
            ]
          },
          "execution_count": 3,
          "metadata": {},
          "output_type": "execute_result"
        }
      ],
      "source": [
        "from sklearn.model_selection import train_test_split#訓練データとテストデータをデータセットを分割して作ってくれる\n",
        "\n",
        "X_train,X_test,y_train,y_test = train_test_split(X,y,test_size=0.3,random_state=1,stratify=y)\n",
        "\"\"\"\n",
        "全体の3割をテストデータにする。\n",
        "random_stateを指定して乱数シードを固定すると常に同じように分割されることで、再現性を持ち、機械学習のモデルの性能を比較できるようにする。\n",
        "stratifyを指定すると、目的変数が複数のラベルを持つ場合でも、各ラベルのデータ数が等しくなるようにデータを分割してくれる。\n",
        "\"\"\""
      ]
    },
    {
      "cell_type": "code",
      "execution_count": null,
      "metadata": {
        "colab": {
          "base_uri": "https://localhost:8080/"
        },
        "id": "HWdcoD3eieRr",
        "outputId": "eb6c506c-f8f5-40c3-e8da-e926938341b5"
      },
      "outputs": [
        {
          "name": "stdout",
          "output_type": "stream",
          "text": [
            "Label counts in y: [50 50 50]\n",
            "Label counts in y_train: [35 35 35]\n",
            "Label counts in y_test: [15 15 15]\n"
          ]
        }
      ],
      "source": [
        "print(\"Label counts in y:\",np.bincount(y))#bincount():配列の中で自然数が何回登場したかを自然数ごとにカウントできる。ヒストグラム創る際にも使えそう\n",
        "print(\"Label counts in y_train:\",np.bincount(y_train))\n",
        "print(\"Label counts in y_test:\",np.bincount(y_test))\n",
        "#実行結果から、各ラベルのデータ数が等しくなるようにデータを分割されていることがわかる"
      ]
    },
    {
      "cell_type": "code",
      "execution_count": null,
      "metadata": {
        "id": "8Cg4zGVkkXiw"
      },
      "outputs": [],
      "source": [
        "#勾配降下法において、最小値を見つける際の処理が素早くなるように、標準化する\n",
        "from sklearn.preprocessing import StandardScaler\n",
        "sc = StandardScaler()\n",
        "sc.fit(X_train)#訓練データの平均と標準偏差を計算\n",
        "\n",
        "X_train_std = sc.transform(X_train)#平均と標準偏差を利用して、X_train を標準化する\n",
        "X_test_std = sc.transform(X_test)#平均と標準偏差を利用して、X_test を標準化する"
      ]
    },
    {
      "cell_type": "code",
      "execution_count": null,
      "metadata": {
        "colab": {
          "base_uri": "https://localhost:8080/"
        },
        "id": "rwUXgP8olnRU",
        "outputId": "423a9cbc-51b5-47a6-f15d-4c8f4830a26d"
      },
      "outputs": [
        {
          "data": {
            "text/plain": [
              "Perceptron(eta0=0.1, max_iter=40, random_state=1)"
            ]
          },
          "execution_count": 6,
          "metadata": {},
          "output_type": "execute_result"
        }
      ],
      "source": [
        "from sklearn.linear_model import Perceptron\n",
        "\n",
        "ppn = Perceptron(max_iter = 40 ,eta0=0.1,random_state=1)#エポック数40,学習率0.1で設定\n",
        "\n",
        "ppn.fit(X_train_std,y_train)"
      ]
    },
    {
      "cell_type": "code",
      "execution_count": null,
      "metadata": {
        "id": "0vBZEcPSmu_U"
      },
      "outputs": [],
      "source": [
        "y_pred = ppn.predict(X_test_std)#テストデータで予測"
      ]
    },
    {
      "cell_type": "code",
      "execution_count": null,
      "metadata": {
        "colab": {
          "base_uri": "https://localhost:8080/"
        },
        "id": "C5kcYOywnh4M",
        "outputId": "6686115c-39f0-49fb-9786-c8b93530fe11"
      },
      "outputs": [
        {
          "name": "stdout",
          "output_type": "stream",
          "text": [
            "Missclassified examples: 1\n"
          ]
        }
      ],
      "source": [
        "print('Missclassified examples: %d' % (y_test != y_pred).sum()) #C言語でいう printf(%d,n)をpythonでは print(\"%d\" % n)　であらわす（nは整数）\n",
        "#今回の予測では、1つ誤分類したことがわかる"
      ]
    },
    {
      "cell_type": "code",
      "execution_count": null,
      "metadata": {
        "colab": {
          "base_uri": "https://localhost:8080/"
        },
        "id": "oRyvCy3un5fX",
        "outputId": "eff92e62-bb33-4c03-deeb-c83a4056e2ea"
      },
      "outputs": [
        {
          "name": "stdout",
          "output_type": "stream",
          "text": [
            "Accuracy: 0.978\n"
          ]
        }
      ],
      "source": [
        "from sklearn.metrics import accuracy_score#分類の正解率を表示してくれる\n",
        "print('Accuracy: %.3f' % accuracy_score(y_test,y_pred))"
      ]
    },
    {
      "cell_type": "code",
      "execution_count": null,
      "metadata": {
        "colab": {
          "base_uri": "https://localhost:8080/"
        },
        "id": "jZdliNi-owW8",
        "outputId": "f86a004a-abb9-4d20-dd15-072f2f72f7cc"
      },
      "outputs": [
        {
          "name": "stdout",
          "output_type": "stream",
          "text": [
            "Accuracy: 0.978\n"
          ]
        }
      ],
      "source": [
        "print('Accuracy: %.3f' % ppn.score(X_test_std,y_test))"
      ]
    },
    {
      "cell_type": "code",
      "execution_count": null,
      "metadata": {
        "id": "cHxyGCz9pHNx"
      },
      "outputs": [],
      "source": [
        "from matplotlib.colors import ListedColormap\n",
        "import matplotlib.pyplot as plt"
      ]
    },
    {
      "cell_type": "code",
      "execution_count": null,
      "metadata": {
        "id": "1rYO2aQoqgqj"
      },
      "outputs": [],
      "source": [
        "def plot_decision_regions(X,Y,classifier,test_idx=None,resolution=0.02):\n",
        "  #マーカとカラーマップの準備\n",
        "  markers = (\"s\",\"x\",\"o\",\"^\",\"v\") #それぞれ、s→四角形、x→バツ、o→円、^→上向き三角形、v→下向き三角形\n",
        "  colors = (\"red\",\"blue\",\"lightgreen\",\"gray\",\"cyan\")#決定領域の色\n",
        "  cmap = ListedColormap(colors[:len(np.unique(y))])#目的変数の数だけ、分類するための色を入手\n",
        "  #決定領域のプロット\n",
        "  x1_min,x1_max = X[:,0].min() - 1 , X[:,0].max() + 1 #今回は二値分類であり、二次元座標系に、データをプロットできる\n",
        "  x2_min,x2_max = X[:,1].min() - 1 , X[:,1].max() + 1 #最小値からー1したところと最大値から＋1したところを表示する画面のサイズとすることで見やすくする\n",
        "  #グリッドポイントの作成\n",
        "  xx1,xx2 = np.meshgrid(np.arange(x1_min,x1_max, resolution),\n",
        "                        np.arange(x2_min,))\n",
        "  \"\"\"\n",
        "  np.meshgrid関数は、x, y, …の各座標の要素列から格子座標を作成するために使う　\n",
        "  xx = np.array([[x for x in range(5)] for _ in range(5)])でも同じことができる\n",
        "  第3引数はresolutionの幅でメッシュを描く\n",
        "  https://deepage.net/features/numpy-meshgrid.html\n",
        "  このサイトがイメージつきやすかった\n",
        "  \"\"\"\n",
        "  #各特徴量を1次元配列に変換して予測を実行\n",
        "  Z = classifier.predict(np.array([xx1.ravel(),xx2.ravel()]).T)#.Tは転置\n",
        "  \"\"\"\n",
        "  # サンプルの二次元のリスト\n",
        "  x =np.array([[1, 2, 3],[4, 5, 6]])\n",
        "\n",
        "  # ravel関数を適用させると、一次元のリストが返却されます。\n",
        "  print(np.ravel(x))\n",
        "  [1 2 3 4 5 6]\n",
        "  \"\"\"\n",
        "  #予測結果を元にグリッドポイントのデータサイズに変換\n",
        "  z = Z.reshape(xx1.shape)#[xの要素数,1]に変換\n",
        "\n",
        "  #グリッドポイントの等高線のプロット\n",
        "  plt.contourf(xx1,xx2,Z,alpha=0.3,cmap=cmap)#contourf()関数は等高線を表示するメソッド  contourf(格子点のx座標の配列, 格子点のy座標の配列, 値の配列)\n",
        "  #軸の範囲設定\n",
        "  plt.xlim(xx1.min(),xx1.max())\n",
        "  plt.ylim(xx2.min(),xx2.max())\n",
        "  #クラスごとにデータをプロット\n",
        "  for idx, cl in enumerate(np.unique(y)): #enumerate()はインデックス番号, 要素の順に取得できる。\n",
        "    plt.scatter(x=X[y == cl,0],y=X[y==cl,1],alpha=0.8,c=colors[idx],marker=markers[idx],label=cl,edgecolor=\"black\")\n",
        "\n",
        "  #テストデータを目立たせる(点を〇で表示)\n",
        "  if test_idx:\n",
        "    #すべてのデータ点をプロット\n",
        "    X_test,y_test = X[test_idx,:],y[test_idx,:]\n",
        "    plt.scatter(X_test[:,0],X_test[:,1],c=\"\",edgecolor=\"black\",\n",
        "                alpha=1.0,linewidth=1,marker=\"o\",s=100,label=\"test set\")\n"
      ]
    },
    {
      "cell_type": "code",
      "execution_count": null,
      "metadata": {
        "colab": {
          "base_uri": "https://localhost:8080/",
          "height": 137
        },
        "id": "tEz4wFW9JbZ8",
        "outputId": "4b0f0793-b1c0-4e3b-9b8f-87c459f91fc9"
      },
      "outputs": [
        {
          "ename": "SyntaxError",
          "evalue": "ignored",
          "output_type": "error",
          "traceback": [
            "\u001b[0;36m  File \u001b[0;32m\"<ipython-input-19-bc53f707d116>\"\u001b[0;36m, line \u001b[0;32m7\u001b[0m\n\u001b[0;31m    plot_decision_regions(X=X_combined_std, y=y_combined, ppn, test_idx=range(105, 150))\u001b[0m\n\u001b[0m                                                         ^\u001b[0m\n\u001b[0;31mSyntaxError\u001b[0m\u001b[0;31m:\u001b[0m positional argument follows keyword argument\n"
          ]
        }
      ],
      "source": [
        "from mlxtend.plotting import plot_decision_regions\n",
        "#訓練データとテストデータの特徴量を行方向に結合\n",
        "X_combined_std = np.vstack((X_train_std,X_test_std))\n",
        "#訓練データとテストデータのクラスラベルを結合\n",
        "y_combined = np.hstack((y_train,y_test))\n",
        "#決定境界のプロット\n",
        "plot_decision_regions(X=X_combined_std, y=y_combined, classifier=ppn, test_idx=range(105, 150))\n",
        "#軸のラベルの設定\n",
        "plt.xlabel(\"petal length [standardized]\")\n",
        "plt.ylabel(\"petal length [standardized]\")\n",
        "#凡例の設定(左上に配置)\n",
        "plt.legend(loc=\"upper left\")\n",
        "#グラフの表示\n",
        "plt.tight_layout()\n",
        "plt.show()"
      ]
    }
  ],
  "metadata": {
    "colab": {
      "collapsed_sections": [],
      "provenance": []
    },
    "kernelspec": {
      "display_name": "Python 3.10.4 ('pytorch')",
      "language": "python",
      "name": "python3"
    },
    "language_info": {
      "codemirror_mode": {
        "name": "ipython",
        "version": 3
      },
      "file_extension": ".py",
      "mimetype": "text/x-python",
      "name": "python",
      "nbconvert_exporter": "python",
      "pygments_lexer": "ipython3",
      "version": "3.10.4"
    },
    "vscode": {
      "interpreter": {
        "hash": "ace30e4a003a34fe178edbdee6c9b3aaa77946eff9235d9562fa02cb1ab478d9"
      }
    }
  },
  "nbformat": 4,
  "nbformat_minor": 0
}
